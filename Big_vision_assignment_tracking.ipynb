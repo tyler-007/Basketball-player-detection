{
  "nbformat": 4,
  "nbformat_minor": 0,
  "metadata": {
    "colab": {
      "provenance": []
    },
    "kernelspec": {
      "name": "python3",
      "display_name": "Python 3"
    },
    "language_info": {
      "name": "python"
    }
  },
  "cells": [
    {
      "cell_type": "markdown",
      "source": [
        "Real time Tracking"
      ],
      "metadata": {
        "id": "V-VdP6_3N7kf"
      }
    },
    {
      "cell_type": "code",
      "execution_count": null,
      "metadata": {
        "id": "yBdclOnAL80t"
      },
      "outputs": [],
      "source": [
        "import cv2\n",
        "from ultralytics import YOLO\n",
        "\n",
        "# Load YOLOv8 model\n",
        "model = YOLO(\"/content/drive/My Drive/ModelBVA.pt\")\n",
        "\n",
        "# Open the video file\n",
        "video_path = \"/content/drive/My Drive/Big Vision Assignment/Output on vidoes/output_video_1.mp4\"\n",
        "cap = cv2.VideoCapture(video_path)\n",
        "\n",
        "# Get video properties\n",
        "fps = int(cap.get(cv2.CAP_PROP_FPS))\n",
        "width = int(cap.get(cv2.CAP_PROP_FRAME_WIDTH))\n",
        "height = int(cap.get(cv2.CAP_PROP_FRAME_HEIGHT))\n",
        "\n",
        "while cap.isOpened():\n",
        "    ret, frame = cap.read()\n",
        "    if not ret:\n",
        "        break  # Break if the video ends\n",
        "\n",
        "    # Use YOLOv8's built-in tracking function with BoT-SORT\n",
        "    # results = model.track(frame, persist=True, tracker=\"bytetrack.yaml\")\n",
        "    results = model.track(frame, persist=True, tracker=\"bytetrack.yaml\", conf=0.35, iou=0.8)\n",
        "\n",
        "    # Draw bounding boxes with tracking IDs\n",
        "    for r in results:\n",
        "        for box in r.boxes:\n",
        "            x1, y1, x2, y2 = map(int, box.xyxy[0])  # Get bounding box coordinates\n",
        "            track_id = int(box.id[0]) if box.id is not None else -1  # Tracking ID\n",
        "            conf = box.conf[0].item()  # Confidence score\n",
        "            label = int(box.cls[0])  # Class label\n",
        "\n",
        "            # Draw rectangle and ID\n",
        "            cv2.rectangle(frame, (x1, y1), (x2, y2), (0, 255, 0), 2)\n",
        "            cv2.putText(frame, f\"ID {track_id}: {conf:.2f}\", (x1, y1 - 10),\n",
        "                        cv2.FONT_HERSHEY_SIMPLEX, 0.5, (0, 255, 0), 2)\n",
        "\n",
        "    # Show the frame with detections\n",
        "    cv2.imshow(\"YOLOv8 + Byte-track Tracking\", frame)\n",
        "\n",
        "    # Press 'q' to exit\n",
        "    if cv2.waitKey(1) & 0xFF == ord(\"q\"):\n",
        "        break\n",
        "\n",
        "cap.release()\n",
        "cv2.destroyAllWindows()\n"
      ]
    },
    {
      "cell_type": "markdown",
      "source": [
        "Getting MOTA output as txt\n"
      ],
      "metadata": {
        "id": "IRGOHi8tN1Lo"
      }
    },
    {
      "cell_type": "code",
      "source": [
        "import cv2\n",
        "from ultralytics import YOLO\n",
        "\n",
        "# Load YOLOv8 model\n",
        "model = YOLO(\"/Users/aayushjain/Downloads/sportsmot_publish/Final models/runs/detect/train4/weights/best.pt\")\n",
        "\n",
        "# Open the video file\n",
        "video_path = \"/Users/aayushjain/Downloads/sportsmot_publish/output_video_MOTA.mp4\"\n",
        "cap = cv2.VideoCapture(video_path)\n",
        "\n",
        "# Define output file for tracking results\n",
        "output_txt = \"/Users/aayushjain/Downloads/sportsmot_publish/tracker_output.txt\"\n",
        "f = open(output_txt, \"w\")\n",
        "\n",
        "frame_id = 0\n",
        "while cap.isOpened():\n",
        "    ret, frame = cap.read()\n",
        "    if not ret:\n",
        "        break  # Stop if video ends\n",
        "\n",
        "    # Run YOLOv8 + ByteTrack\n",
        "    results = model.track(frame, persist=True, tracker=\"bytetrack.yaml\", conf=0.5, iou=0.7)\n",
        "\n",
        "    # Ensure detections exist\n",
        "    if results and len(results) > 0:\n",
        "        for r in results:\n",
        "            for box in r.boxes:\n",
        "                x1, y1, x2, y2 = map(int, box.xyxy[0])  # Bounding box\n",
        "                track_id = int(box.id[0]) if box.id is not None else -1  # Tracking ID\n",
        "                conf = box.conf[0].item()  # Confidence score\n",
        "\n",
        "                # Save to file (Format: frame_id, track_id, x1, y1, x2, y2, confidence)\n",
        "                f.write(f\"{frame_id},{track_id},{x1},{y1},{x2},{y2},{conf:.2f}\\n\")\n",
        "\n",
        "    frame_id += 1\n",
        "\n",
        "cap.release()\n",
        "f.close()\n",
        "print(f\"✅ Tracking data saved at: {output_txt}\")"
      ],
      "metadata": {
        "id": "BcELNK_ON6pv"
      },
      "execution_count": null,
      "outputs": []
    },
    {
      "cell_type": "markdown",
      "source": [
        "Check MOTA"
      ],
      "metadata": {
        "id": "c8NGhQYhM8zp"
      }
    },
    {
      "cell_type": "code",
      "source": [
        "import numpy as np\n",
        "\n",
        "# Load data\n",
        "gt_data = np.loadtxt(\"/Users/aayushjain/codes/projects/company assignements/Big Vision/gt_fixed.txt\", delimiter=\",\")\n",
        "track_data = np.loadtxt(\"/Users/aayushjain/codes/projects/company assignements/Big Vision/tracker_output.txt\", delimiter=\",\")\n",
        "\n",
        "# Check unique frames\n",
        "print(\"Unique frames in GT:\", np.unique(gt_data[:, 0]))\n",
        "print(\"Unique frames in Tracker Output:\", np.unique(track_data[:, 0]))"
      ],
      "metadata": {
        "id": "mXdkE9LuMqs4"
      },
      "execution_count": null,
      "outputs": []
    },
    {
      "cell_type": "markdown",
      "source": [
        "gt fix"
      ],
      "metadata": {
        "id": "ikDSbwglNBEt"
      }
    },
    {
      "cell_type": "code",
      "source": [
        "import numpy as np\n",
        "\n",
        "# Load GT\n",
        "gt_data = np.loadtxt(\"/Users/aayushjain/codes/projects/company assignements/Big Vision/gt.txt\", delimiter=\",\")\n",
        "\n",
        "# Convert bbox format\n",
        "gt_data[:, 4] += gt_data[:, 2]  # x2 = x1 + width\n",
        "gt_data[:, 5] += gt_data[:, 3]  # y2 = y1 + height\n",
        "\n",
        "# Save fixed GT\n",
        "np.savetxt(\"/Users/aayushjain/codes/projects/company assignements/Big Vision/gt_fixed.txt\", gt_data, delimiter=\",\", fmt=\"%.2f\")\n",
        "\n",
        "print(\"✅ Ground truth converted to (x1, y1, x2, y2) format and saved!\")"
      ],
      "metadata": {
        "id": "_r6iotLJNJDN"
      },
      "execution_count": null,
      "outputs": []
    },
    {
      "cell_type": "markdown",
      "source": [
        "tracker fixed"
      ],
      "metadata": {
        "id": "-LWgxjMlNKEr"
      }
    },
    {
      "cell_type": "code",
      "source": [
        "import numpy as np\n",
        "\n",
        "# Load tracker output\n",
        "track_data = np.loadtxt(\"/Users/aayushjain/codes/projects/company assignements/Big Vision/tracker_output.txt\", delimiter=\",\")\n",
        "\n",
        "# Increment frame IDs by 1\n",
        "track_data[:, 0] += 1\n",
        "\n",
        "# Save back\n",
        "np.savetxt(\"/Users/aayushjain/codes/projects/company assignements/Big Vision/tracker_output_fixed.txt\", track_data, delimiter=\",\", fmt=\"%.2f\")\n",
        "\n",
        "print(\"✅ Fixed tracker_output.txt saved as tracker_output_fixed.txt\")"
      ],
      "metadata": {
        "id": "4z4nguYuNJrc"
      },
      "execution_count": null,
      "outputs": []
    },
    {
      "cell_type": "markdown",
      "source": [
        "Fix MOTA"
      ],
      "metadata": {
        "id": "0FsU3mM5NQUe"
      }
    },
    {
      "cell_type": "code",
      "source": [
        "import motmetrics as mm\n",
        "import numpy as np\n",
        "\n",
        "# Initialize MOT accumulator\n",
        "acc = mm.MOTAccumulator(auto_id=True)\n",
        "\n",
        "# Load ground truth & tracker predictions (format: frame_id, obj_id, x1, y1, x2, y2)\n",
        "gt_data = np.loadtxt(\"/Users/aayushjain/codes/projects/company assignements/Big Vision/gt_fixed.txt\", delimiter=\",\")  # Replace with your GT file\n",
        "track_data = np.loadtxt(\"/Users/aayushjain/codes/projects/company assignements/Big Vision/tracker_output_fixed.txt\", delimiter=\",\")  # Replace with ByteTrack results\n",
        "\n",
        "# Process frame by frame\n",
        "for frame in np.unique(gt_data[:, 0]):  # Loop through all frames\n",
        "    gt_boxes = gt_data[gt_data[:, 0] == frame, 2:6]  # Extract GT bbox\n",
        "    track_boxes = track_data[track_data[:, 0] == frame, 2:6]  # Extract detected bbox\n",
        "    gt_ids = gt_data[gt_data[:, 0] == frame, 1].astype(int)  # GT IDs\n",
        "    track_ids = track_data[track_data[:, 0] == frame, 1].astype(int)  # Tracked IDs\n",
        "\n",
        "    # Compute IoU (Intersection Over Union) for matching GT with predicted tracks\n",
        "    distances = mm.distances.iou_matrix(gt_boxes, track_boxes, max_iou=0.5)\n",
        "\n",
        "    # Update MOT accumulator with matches\n",
        "    acc.update(gt_ids, track_ids, distances)\n",
        "\n",
        "# Compute metrics\n",
        "mh = mm.metrics.create()\n",
        "summary = mh.compute(acc, metrics=[\"num_misses\", \"num_false_positives\", \"num_switches\", \"mota\"], name=\"MOTA Results\")\n",
        "print(summary)"
      ],
      "metadata": {
        "id": "jtVa798UNUNO"
      },
      "execution_count": null,
      "outputs": []
    },
    {
      "cell_type": "markdown",
      "source": [
        "Print Summary"
      ],
      "metadata": {
        "id": "f19Yke4sNT5P"
      }
    },
    {
      "cell_type": "code",
      "source": [
        "import motmetrics as mm\n",
        "import numpy as np\n",
        "\n",
        "# Load Ground Truth (GT) and Tracker Output\n",
        "gt_file = \"/Users/aayushjain/codes/projects/company assignements/Big Vision/gt_fixed.txt\"\n",
        "tracker_file = \"/Users/aayushjain/codes/projects/company assignements/Big Vision/tracker_output_fixed.txt\"\n",
        "\n",
        "gt_data = np.loadtxt(gt_file, delimiter=\",\")  # GT: (frame_id, obj_id, x1, y1, x2, y2)\n",
        "track_data = np.loadtxt(tracker_file, delimiter=\",\")  # Tracker: (frame_id, track_id, x1, y1, x2, y2, conf)\n",
        "\n",
        "# Initialize MOT accumulator\n",
        "acc = mm.MOTAccumulator(auto_id=True)\n",
        "\n",
        "# Process frame by frame\n",
        "for frame in np.unique(gt_data[:, 0]):  # Loop through all frames\n",
        "    gt_boxes = gt_data[gt_data[:, 0] == frame, 2:6]  # GT bounding boxes\n",
        "    track_boxes = track_data[track_data[:, 0] == frame, 2:6]  # Tracker bounding boxes\n",
        "    gt_ids = gt_data[gt_data[:, 0] == frame, 1].astype(int)  # GT IDs\n",
        "    track_ids = track_data[track_data[:, 0] == frame, 1].astype(int)  # Tracked IDs\n",
        "\n",
        "    # Compute IoU (Intersection Over Union) for matching\n",
        "    distances = mm.distances.iou_matrix(gt_boxes, track_boxes, max_iou=0.5)\n",
        "\n",
        "    # Update MOT accumulator\n",
        "    acc.update(gt_ids, track_ids, distances)\n",
        "\n",
        "# Compute MOTA, IDF1, and MOTP\n",
        "mh = mm.metrics.create()\n",
        "metrics = [\"idf1\", \"mota\", \"motp\"]\n",
        "summary = mh.compute(acc, metrics=metrics, name=\"Tracking Performance\")\n",
        "\n",
        "# Print results\n",
        "print(summary)"
      ],
      "metadata": {
        "id": "twTh0Ud6NZu6"
      },
      "execution_count": null,
      "outputs": []
    }
  ]
}